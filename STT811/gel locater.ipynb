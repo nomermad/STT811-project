{
 "cells": [
  {
   "cell_type": "markdown",
   "id": "a70edbf1-531d-4eed-99c6-9754c1e89ea8",
   "metadata": {},
   "source": [
    "### Code for the gel locater"
   ]
  },
  {
   "cell_type": "code",
   "execution_count": 1,
   "id": "c93364f8-f62d-4d22-b297-5165c1035e2c",
   "metadata": {},
   "outputs": [],
   "source": [
    "#loading in packages\n",
    "import numpy as np\n",
    "import cv2\n",
    "from skimage import measure\n",
    "from skimage.io import imread\n",
    "import matplotlib.pyplot as plt"
   ]
  },
  {
   "cell_type": "code",
   "execution_count": 3,
   "id": "efbea09d-dcf4-41bf-8420-0cffae046c38",
   "metadata": {},
   "outputs": [],
   "source": [
    "#creating a function to locate the boxes\n",
    "def locate_boxes(mask_image, method='center'): #input is the mask image as a numpy array or file path (depending on how we want to load in the data), we can change this\n",
    "    if isinstance(mask_image, str): #this if statement is loading the image if its a file path\n",
    "        mask = imread(mask_image, as_gray=True)\n",
    "        mask = (mask > 0).astype(np.uint8) #converts the mask\n",
    "    else: #this else statement loads the image if its a numpy array\n",
    "        mask = mask_image.astype(np.uint8)\n",
    "    labels = measure.label(mask, connectivity=2) #labels components that are connected\n",
    "    props = measure.regionprops(labels)\n",
    "    return labels, props\n",
    "    \n",
    "def get_box_locations(props, method='center'): #getting the box locations\n",
    "    box_locations = []\n",
    "    for prop in props:\n",
    "        if method == 'center': #converts centroit (y,x) to (x,y)\n",
    "            y, x = prop.centroid\n",
    "            box_locations.append((int(x), int(y)))\n",
    "        elif method == 'topleft':# converts centroid (x, y) with x=col, y=row\n",
    "            min_row, min_col, _, _ = prop.bbox \n",
    "            box_locations.append((min_col, min_row))\n",
    "        elif method == 'bottomleft': #converts cetroid (x, y) with x=col, y=row\n",
    "            _, min_col, max_row, _ = prop.bbox\n",
    "            box_locations.append((min_col, max_row - 1))\n",
    "    \n",
    "    return box_locations\n",
    "    \n",
    "\n",
    "def visualize_boxes(mask_image, box_locations, method='center'): #visualizing the masked image with detected boxes\n",
    "    if isinstance(mask_image, str):\n",
    "        mask = imread(mask_image, as_gray=True)\n",
    "        # Ensure binary\n",
    "        mask = (mask > 0).astype(np.uint8)\n",
    "    else:\n",
    "        mask = mask_image.astype(np.uint8)\n",
    "    vis_img = np.stack([mask*255, mask*255, mask*255], axis=-1) #converting to create an image\n",
    "    index = 1  \n",
    "    for box in box_locations:\n",
    "        x, y = box  \n",
    "        cv2.circle(vis_img, (x, y), 3, (255, 0, 0), -1) #red dot\n",
    "        cv2.putText(vis_img, f\"Box {index}: ({x},{y})\", (x + 5, y),cv2.FONT_HERSHEY_SIMPLEX, 0.5, (0, 0, 255), 1)\n",
    "        index += 1\n",
    "    plt.figure(figsize=(10, 10))\n",
    "    plt.imshow(vis_img)\n",
    "    plt.title(f'Box Locations using {method} method')\n",
    "    plt.axis('on')\n",
    "    plt.grid(True)\n",
    "    plt.show()\n"
   ]
  },
  {
   "cell_type": "code",
   "execution_count": null,
   "id": "6fc9fe3b-a6de-4f2a-9b40-205dc455726d",
   "metadata": {},
   "outputs": [],
   "source": []
  }
 ],
 "metadata": {
  "kernelspec": {
   "display_name": "Python 3 (ipykernel)",
   "language": "python",
   "name": "python3"
  },
  "language_info": {
   "codemirror_mode": {
    "name": "ipython",
    "version": 3
   },
   "file_extension": ".py",
   "mimetype": "text/x-python",
   "name": "python",
   "nbconvert_exporter": "python",
   "pygments_lexer": "ipython3",
   "version": "3.12.4"
  }
 },
 "nbformat": 4,
 "nbformat_minor": 5
}
